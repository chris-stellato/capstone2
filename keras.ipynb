{
 "cells": [
  {
   "cell_type": "code",
   "execution_count": 2,
   "metadata": {},
   "outputs": [],
   "source": [
    "import numpy as np\n",
    "#np.random.seed(1895)  # for reproducibility\n",
    "import matplotlib.pyplot as plt\n",
    "from sklearn.metrics import confusion_matrix\n",
    "import os\n",
    "from keras import backend\n",
    "\n",
    "import tensorflow as tf\n",
    "from tensorflow import keras\n",
    "from tensorflow.keras.models import Sequential\n",
    "from tensorflow.keras.layers import Dense, Dropout, Activation, Flatten\n",
    "from tensorflow.keras.layers import Conv2D, MaxPooling2D\n",
    "from tensorflow.keras.datasets import cifar10\n",
    "from tensorflow.keras.utils import to_categorical\n",
    "from tensorflow.keras.optimizers import RMSprop\n",
    "from tensorflow.keras.preprocessing.image import ImageDataGenerator\n",
    "\n"
   ]
  },
  {
   "cell_type": "code",
   "execution_count": 3,
   "metadata": {},
   "outputs": [],
   "source": [
    "train_path = 'images_tvt_split/train' \n",
    "valid_path = 'images_tvt_split/valid'\n",
    "test_path = 'images_tvt_split/test'"
   ]
  },
  {
   "cell_type": "code",
   "execution_count": 4,
   "metadata": {},
   "outputs": [
    {
     "name": "stdout",
     "output_type": "stream",
     "text": [
      "Found 536 images belonging to 2 classes.\n"
     ]
    }
   ],
   "source": [
    "train_generator = ImageDataGenerator(\n",
    "        rescale=1./255,\n",
    "        shear_range=0.2,\n",
    "        zoom_range=0.2,\n",
    "        horizontal_flip=True).flow_from_directory(\n",
    "        train_path, target_size=(150, 150),  \n",
    "         #batch_size=batch_size,\n",
    "        class_mode='binary')  "
   ]
  },
  {
   "cell_type": "code",
   "execution_count": 5,
   "metadata": {},
   "outputs": [
    {
     "name": "stdout",
     "output_type": "stream",
     "text": [
      "Found 178 images belonging to 2 classes.\n"
     ]
    }
   ],
   "source": [
    "valid_generator = ImageDataGenerator(\n",
    "        rescale=1./255,\n",
    "        shear_range=0.2,\n",
    "        zoom_range=0.2,\n",
    "        horizontal_flip=True).flow_from_directory(\n",
    "        valid_path, target_size=(150, 150),  \n",
    "         #batch_size=batch_size,\n",
    "        class_mode='binary')  "
   ]
  },
  {
   "cell_type": "code",
   "execution_count": 6,
   "metadata": {},
   "outputs": [
    {
     "name": "stdout",
     "output_type": "stream",
     "text": [
      "Found 178 images belonging to 2 classes.\n"
     ]
    }
   ],
   "source": [
    "test_generator = ImageDataGenerator(\n",
    "        rescale=1./255,\n",
    "        shear_range=0.2,\n",
    "        zoom_range=0.2,\n",
    "        horizontal_flip=True).flow_from_directory(\n",
    "        test_path, target_size=(150, 150),  \n",
    "         #batch_size=batch_size,\n",
    "        class_mode='binary', shuffle=False)  "
   ]
  },
  {
   "cell_type": "code",
   "execution_count": 7,
   "metadata": {},
   "outputs": [
    {
     "data": {
      "text/plain": [
       "(32, 150, 150, 3)"
      ]
     },
     "execution_count": 7,
     "metadata": {},
     "output_type": "execute_result"
    }
   ],
   "source": [
    "next(train_generator)[0].shape"
   ]
  },
  {
   "cell_type": "code",
   "execution_count": 8,
   "metadata": {},
   "outputs": [],
   "source": [
    "model = Sequential()\n",
    "model.add(Conv2D(32, (3, 3), input_shape=(150, 150, 3)))\n",
    "model.add(Activation('relu'))\n",
    "model.add(MaxPooling2D(pool_size=(2, 2)))\n",
    "\n",
    "model.add(Conv2D(32, (3, 3)))\n",
    "model.add(Activation('relu'))\n",
    "model.add(MaxPooling2D(pool_size=(2, 2)))\n",
    "\n",
    "model.add(Conv2D(64, (3, 3)))\n",
    "model.add(Activation('relu'))\n",
    "model.add(MaxPooling2D(pool_size=(2, 2)))\n",
    "model.add(Flatten())  # this converts our 3D feature maps to 1D feature vectors\n",
    "model.add(Dense(64))\n",
    "model.add(Activation('relu'))\n",
    "model.add(Dropout(0.5))\n",
    "model.add(Dense(1))\n",
    "model.add(Activation('sigmoid'))"
   ]
  },
  {
   "cell_type": "code",
   "execution_count": 9,
   "metadata": {},
   "outputs": [],
   "source": [
    "model.compile(loss='binary_crossentropy',\n",
    "              optimizer='rmsprop',\n",
    "              metrics=['accuracy'])"
   ]
  },
  {
   "cell_type": "code",
   "execution_count": 10,
   "metadata": {},
   "outputs": [
    {
     "data": {
      "text/plain": [
       "1e-04"
      ]
     },
     "execution_count": 10,
     "metadata": {},
     "output_type": "execute_result"
    }
   ],
   "source": [
    "backend.set_value(model.optimizer.learning_rate, 0.0001)\n",
    "model.optimizer.learning_rate.numpy()"
   ]
  },
  {
   "cell_type": "code",
   "execution_count": 11,
   "metadata": {},
   "outputs": [
    {
     "name": "stdout",
     "output_type": "stream",
     "text": [
      "Model: \"sequential\"\n",
      "_________________________________________________________________\n",
      "Layer (type)                 Output Shape              Param #   \n",
      "=================================================================\n",
      "conv2d (Conv2D)              (None, 148, 148, 32)      896       \n",
      "_________________________________________________________________\n",
      "activation (Activation)      (None, 148, 148, 32)      0         \n",
      "_________________________________________________________________\n",
      "max_pooling2d (MaxPooling2D) (None, 74, 74, 32)        0         \n",
      "_________________________________________________________________\n",
      "conv2d_1 (Conv2D)            (None, 72, 72, 32)        9248      \n",
      "_________________________________________________________________\n",
      "activation_1 (Activation)    (None, 72, 72, 32)        0         \n",
      "_________________________________________________________________\n",
      "max_pooling2d_1 (MaxPooling2 (None, 36, 36, 32)        0         \n",
      "_________________________________________________________________\n",
      "conv2d_2 (Conv2D)            (None, 34, 34, 64)        18496     \n",
      "_________________________________________________________________\n",
      "activation_2 (Activation)    (None, 34, 34, 64)        0         \n",
      "_________________________________________________________________\n",
      "max_pooling2d_2 (MaxPooling2 (None, 17, 17, 64)        0         \n",
      "_________________________________________________________________\n",
      "flatten (Flatten)            (None, 18496)             0         \n",
      "_________________________________________________________________\n",
      "dense (Dense)                (None, 64)                1183808   \n",
      "_________________________________________________________________\n",
      "activation_3 (Activation)    (None, 64)                0         \n",
      "_________________________________________________________________\n",
      "dropout (Dropout)            (None, 64)                0         \n",
      "_________________________________________________________________\n",
      "dense_1 (Dense)              (None, 1)                 65        \n",
      "_________________________________________________________________\n",
      "activation_4 (Activation)    (None, 1)                 0         \n",
      "=================================================================\n",
      "Total params: 1,212,513\n",
      "Trainable params: 1,212,513\n",
      "Non-trainable params: 0\n",
      "_________________________________________________________________\n"
     ]
    }
   ],
   "source": [
    "model.summary()"
   ]
  },
  {
   "cell_type": "code",
   "execution_count": 12,
   "metadata": {},
   "outputs": [
    {
     "name": "stdout",
     "output_type": "stream",
     "text": [
      "Epoch 1/25\n",
      " 2/17 [==>...........................] - ETA: 15s - loss: 0.7180 - accuracy: 0.4375"
     ]
    },
    {
     "name": "stderr",
     "output_type": "stream",
     "text": [
      "/Users/stellato/opt/anaconda3/lib/python3.7/site-packages/PIL/TiffImagePlugin.py:785: UserWarning: Corrupt EXIF data.  Expecting to read 4 bytes but only got 0. \n",
      "  warnings.warn(str(msg))\n"
     ]
    },
    {
     "name": "stdout",
     "output_type": "stream",
     "text": [
      "17/17 [==============================] - 26s 1s/step - loss: 0.7035 - accuracy: 0.5065 - val_loss: 0.6602 - val_accuracy: 0.5618\n",
      "Epoch 2/25\n",
      "17/17 [==============================] - 22s 1s/step - loss: 0.6540 - accuracy: 0.5896 - val_loss: 0.5937 - val_accuracy: 0.7472\n",
      "Epoch 3/25\n",
      "17/17 [==============================] - 42s 2s/step - loss: 0.6217 - accuracy: 0.6674 - val_loss: 0.5377 - val_accuracy: 0.8371\n",
      "Epoch 4/25\n",
      "17/17 [==============================] - 27s 2s/step - loss: 0.5665 - accuracy: 0.7455 - val_loss: 0.4864 - val_accuracy: 0.8596\n",
      "Epoch 5/25\n",
      "17/17 [==============================] - 25s 1s/step - loss: 0.4855 - accuracy: 0.7830 - val_loss: 0.4237 - val_accuracy: 0.8933\n",
      "Epoch 6/25\n",
      "17/17 [==============================] - 25s 1s/step - loss: 0.4906 - accuracy: 0.7774 - val_loss: 0.4080 - val_accuracy: 0.8933\n",
      "Epoch 7/25\n",
      "17/17 [==============================] - 46s 3s/step - loss: 0.4289 - accuracy: 0.8099 - val_loss: 0.4394 - val_accuracy: 0.8034\n",
      "Epoch 8/25\n",
      "17/17 [==============================] - 29s 2s/step - loss: 0.4420 - accuracy: 0.8162 - val_loss: 0.4083 - val_accuracy: 0.8371\n",
      "Epoch 9/25\n",
      "17/17 [==============================] - 28s 2s/step - loss: 0.4330 - accuracy: 0.7978 - val_loss: 0.3710 - val_accuracy: 0.8483\n",
      "Epoch 10/25\n",
      "17/17 [==============================] - 32s 2s/step - loss: 0.3843 - accuracy: 0.8449 - val_loss: 0.3715 - val_accuracy: 0.8652\n",
      "Epoch 11/25\n",
      "17/17 [==============================] - 39s 2s/step - loss: 0.4074 - accuracy: 0.8169 - val_loss: 0.3350 - val_accuracy: 0.8483\n",
      "Epoch 12/25\n",
      "17/17 [==============================] - 27s 2s/step - loss: 0.3569 - accuracy: 0.8531 - val_loss: 0.3752 - val_accuracy: 0.8483\n",
      "Epoch 13/25\n",
      "17/17 [==============================] - 26s 2s/step - loss: 0.3708 - accuracy: 0.8541 - val_loss: 0.3586 - val_accuracy: 0.8539\n",
      "Epoch 14/25\n",
      "17/17 [==============================] - 25s 1s/step - loss: 0.3777 - accuracy: 0.8377 - val_loss: 0.3279 - val_accuracy: 0.8652\n",
      "Epoch 15/25\n",
      "17/17 [==============================] - 25s 1s/step - loss: 0.3462 - accuracy: 0.8494 - val_loss: 0.3639 - val_accuracy: 0.8539\n",
      "Epoch 16/25\n",
      "17/17 [==============================] - 25s 1s/step - loss: 0.3870 - accuracy: 0.8079 - val_loss: 0.3445 - val_accuracy: 0.8483\n",
      "Epoch 17/25\n",
      "17/17 [==============================] - 24s 1s/step - loss: 0.3182 - accuracy: 0.8486 - val_loss: 0.3190 - val_accuracy: 0.8764\n",
      "Epoch 18/25\n",
      "17/17 [==============================] - 25s 1s/step - loss: 0.3362 - accuracy: 0.8787 - val_loss: 0.3398 - val_accuracy: 0.8652\n",
      "Epoch 19/25\n",
      "17/17 [==============================] - 24s 1s/step - loss: 0.2996 - accuracy: 0.8713 - val_loss: 0.3213 - val_accuracy: 0.8708\n",
      "Epoch 20/25\n",
      "17/17 [==============================] - 24s 1s/step - loss: 0.3029 - accuracy: 0.8672 - val_loss: 0.3127 - val_accuracy: 0.8933\n",
      "Epoch 21/25\n",
      "17/17 [==============================] - 24s 1s/step - loss: 0.3043 - accuracy: 0.8687 - val_loss: 0.3147 - val_accuracy: 0.8820\n",
      "Epoch 22/25\n",
      "17/17 [==============================] - 23s 1s/step - loss: 0.3164 - accuracy: 0.8810 - val_loss: 0.3337 - val_accuracy: 0.8876\n",
      "Epoch 23/25\n",
      "17/17 [==============================] - 22s 1s/step - loss: 0.2926 - accuracy: 0.8794 - val_loss: 0.3051 - val_accuracy: 0.8708\n",
      "Epoch 24/25\n",
      "17/17 [==============================] - 22s 1s/step - loss: 0.2958 - accuracy: 0.8945 - val_loss: 0.3141 - val_accuracy: 0.8539\n",
      "Epoch 25/25\n",
      "17/17 [==============================] - 25s 1s/step - loss: 0.3071 - accuracy: 0.8561 - val_loss: 0.3313 - val_accuracy: 0.8708\n"
     ]
    }
   ],
   "source": [
    "history = model.fit(\n",
    "        train_generator,\n",
    "#         steps_per_epoch=2000, \n",
    "        epochs=25,\n",
    "        validation_data=valid_generator)\n",
    "#         validation_steps=800)\n",
    "# model.save_weights('first_try.h5')"
   ]
  },
  {
   "cell_type": "code",
   "execution_count": 13,
   "metadata": {},
   "outputs": [],
   "source": [
    "#model.summary()"
   ]
  },
  {
   "cell_type": "code",
   "execution_count": 43,
   "metadata": {},
   "outputs": [
    {
     "data": {
      "image/png": "[encoded data removed]",
      "text/plain": [
       "<Figure size 432x288 with 1 Axes>"
      ]
     },
     "metadata": {
      "needs_background": "light"
     },
     "output_type": "display_data"
    },
    {
     "data": {
      "image/png": "[encoded data removed]",
      "text/plain": [
       "<Figure size 432x288 with 1 Axes>"
      ]
     },
     "metadata": {
      "needs_background": "light"
     },
     "output_type": "display_data"
    }
   ],
   "source": [
    "fig, ax = plt.subplots(figsize=(6,4))\n",
    "\n",
    "plt.plot(history.history['accuracy'])\n",
    "plt.plot(history.history['val_accuracy'])\n",
    "plt.title('model accuracy')\n",
    "plt.ylabel('accuracy')\n",
    "plt.xlabel('epoch')\n",
    "ax.set_ylim(0.7, 1.0)\n",
    "ax.set_yticks(np.arange(0.70,1.00,0.05))\n",
    "\n",
    "plt.legend(['train', 'test'], loc='lower right')\n",
    "plt.show()\n",
    "\n",
    "fig, ax = plt.subplots(figsize=(6,4))\n",
    "\n",
    "plt.plot(history.history['loss'])\n",
    "plt.plot(history.history['val_loss'])\n",
    "plt.title('model loss')\n",
    "plt.ylabel('loss')\n",
    "plt.xlabel('epoch')\n",
    "\n",
    "ax.set_yticks(list(np.arange(0.0,0.80,0.1)))\n",
    "\n",
    "\n",
    "plt.legend(['train', 'test'], loc='upper left')\n",
    "plt.show()"
   ]
  },
  {
   "cell_type": "code",
   "execution_count": 15,
   "metadata": {},
   "outputs": [
    {
     "name": "stdout",
     "output_type": "stream",
     "text": [
      "INFO:tensorflow:Assets written to: ./keras_1/assets\n"
     ]
    }
   ],
   "source": [
    "model.save(f'./keras_1')"
   ]
  },
  {
   "cell_type": "code",
   "execution_count": 16,
   "metadata": {},
   "outputs": [
    {
     "data": {
      "text/plain": [
       "<Figure size 432x288 with 0 Axes>"
      ]
     },
     "metadata": {},
     "output_type": "display_data"
    }
   ],
   "source": [
    "plt.savefig('keras1_accuracy_loss')"
   ]
  },
  {
   "cell_type": "code",
   "execution_count": 17,
   "metadata": {},
   "outputs": [
    {
     "name": "stdout",
     "output_type": "stream",
     "text": [
      "2/6 [=========>....................] - ETA: 1s - loss: 0.2120 - accuracy: 0.9375"
     ]
    },
    {
     "name": "stderr",
     "output_type": "stream",
     "text": [
      "/Users/stellato/opt/anaconda3/lib/python3.7/site-packages/PIL/TiffImagePlugin.py:785: UserWarning: Corrupt EXIF data.  Expecting to read 4 bytes but only got 0. \n",
      "  warnings.warn(str(msg))\n"
     ]
    },
    {
     "name": "stdout",
     "output_type": "stream",
     "text": [
      "6/6 [==============================] - 4s 809ms/step - loss: 0.2798 - accuracy: 0.9045\n"
     ]
    },
    {
     "data": {
      "text/plain": [
       "[0.2798183858394623, 0.9044944047927856]"
      ]
     },
     "execution_count": 17,
     "metadata": {},
     "output_type": "execute_result"
    }
   ],
   "source": [
    "#keras Sequential() CNN\n",
    "model.evaluate(test_generator, verbose=True)"
   ]
  },
  {
   "cell_type": "code",
   "execution_count": 18,
   "metadata": {},
   "outputs": [],
   "source": [
    "from src.plotting import plot_confusion_matrix"
   ]
  },
  {
   "cell_type": "code",
   "execution_count": 19,
   "metadata": {},
   "outputs": [],
   "source": [
    "predictions = model.predict(x=test_generator, verbose=0)"
   ]
  },
  {
   "cell_type": "code",
   "execution_count": 20,
   "metadata": {},
   "outputs": [],
   "source": [
    "# np.round(predictions)"
   ]
  },
  {
   "cell_type": "code",
   "execution_count": 21,
   "metadata": {},
   "outputs": [],
   "source": [
    "cm = confusion_matrix(y_true=test_generator.classes, y_pred=np.round(predictions))"
   ]
  },
  {
   "cell_type": "code",
   "execution_count": 22,
   "metadata": {},
   "outputs": [
    {
     "name": "stdout",
     "output_type": "stream",
     "text": [
      "Confusion matrix without normalization\n",
      "[[91  6]\n",
      " [13 68]]\n"
     ]
    },
    {
     "data": {
      "image/png": "[encoded data removed]",
      "text/plain": [
       "<Figure size 432x288 with 2 Axes>"
      ]
     },
     "metadata": {
      "needs_background": "light"
     },
     "output_type": "display_data"
    }
   ],
   "source": [
    "cm_plot_labels = ['mask', 'no_mask']\n",
    "plot_confusion_matrix(cm=cm, classes=cm_plot_labels, title='Confusion Matrix')"
   ]
  },
  {
   "cell_type": "code",
   "execution_count": null,
   "metadata": {},
   "outputs": [],
   "source": []
  }
 ],
 "metadata": {
  "kernelspec": {
   "display_name": "Python 3",
   "language": "python",
   "name": "python3"
  },
  "language_info": {
   "codemirror_mode": {
    "name": "ipython",
    "version": 3
   },
   "file_extension": ".py",
   "mimetype": "text/x-python",
   "name": "python",
   "nbconvert_exporter": "python",
   "pygments_lexer": "ipython3",
   "version": "3.7.7"
  }
 },
 "nbformat": 4,
 "nbformat_minor": 4
}
